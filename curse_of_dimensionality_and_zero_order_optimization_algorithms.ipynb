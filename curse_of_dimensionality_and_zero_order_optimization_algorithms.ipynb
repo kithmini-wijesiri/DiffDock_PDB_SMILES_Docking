{
  "nbformat": 4,
  "nbformat_minor": 0,
  "metadata": {
    "colab": {
      "provenance": [],
      "include_colab_link": true
    },
    "kernelspec": {
      "name": "python3",
      "display_name": "Python 3"
    },
    "language_info": {
      "name": "python"
    }
  },
  "cells": [
    {
      "cell_type": "markdown",
      "metadata": {
        "id": "view-in-github",
        "colab_type": "text"
      },
      "source": [
        "<a href=\"https://colab.research.google.com/github/kithmini-wijesiri/SMILES/blob/main/curse_of_dimensionality_and_zero_order_optimization_algorithms.ipynb\" target=\"_parent\"><img src=\"https://colab.research.google.com/assets/colab-badge.svg\" alt=\"Open In Colab\"/></a>"
      ]
    },
    {
      "cell_type": "markdown",
      "source": [
        " **curse of dimensionality and zero-order optimization algorithms**"
      ],
      "metadata": {
        "id": "3hEjwnrTowXO"
      }
    },
    {
      "cell_type": "markdown",
      "source": [
        "##**Minimizing a quadratic function and the curse of dimensionality**\n",
        "\n",
        "Consider the simple quadratic function\n",
        "\\begin{equation}\n",
        "\\begin{array}\n",
        "\\\n",
        "g(w) = w^T w\n",
        "\\end{array}\n",
        "\\end{equation}\n",
        "whose minimum is always at the origin regardless of the input dimension $N$.\n",
        "\n",
        "We can create a range of these quadratics for input dimension $N = 1$ to $N=100$, sample the input space of each $P = 100$ times randomly on the hypercube $[-1,1]\\times [-1, 1] \\times \\ldots \\times [-1,1]$ (this hypercube has $N$ sides), and plot the minimum value attained for each quadratic against the input dimenionsion $N$."
      ],
      "metadata": {
        "id": "xDmnSSEgqHep"
      }
    },
    {
      "cell_type": "code",
      "execution_count": null,
      "metadata": {
        "id": "sqs5OTTBXQRy"
      },
      "outputs": [],
      "source": [
        "import numpy as np\n",
        "np.random.seed(0)"
      ]
    },
    {
      "cell_type": "code",
      "source": [
        "# define the function g\n",
        "g = lambda w: np.dot(w.T,w)"
      ],
      "metadata": {
        "id": "W09TQqD2XSaB"
      },
      "execution_count": null,
      "outputs": []
    },
    {
      "cell_type": "code",
      "source": [
        "# implement the function xmins, which takes one argument P, the number of samples from the hypercube,\n",
        "# and returns the minimum values of g among these P samples\n",
        "# for dimension N = 1, 2, ..., 100.\n",
        "def xmins(P):\n",
        "  xmins = []\n",
        "  for N in range(1,101):\n",
        "   w = np.random.uniform(-1, 1, (P, N))\n",
        "   g_values = np.array([g(w[i]) for i in range(P)])\n",
        "   xmins.append(np.min(g_values))\n",
        "  return np.array(xmins)"
      ],
      "metadata": {
        "id": "lXuKFuoCDWiQ"
      },
      "execution_count": null,
      "outputs": []
    },
    {
      "cell_type": "code",
      "source": [
        "# get the results from P = 100, 1000, and 10000\n",
        "xmins_100 = xmins(100)\n",
        "xmins_1000 = xmins(1000)\n",
        "xmins_10000 = xmins(10000)"
      ],
      "metadata": {
        "id": "F8kOQCoAEeGG"
      },
      "execution_count": null,
      "outputs": []
    },
    {
      "cell_type": "code",
      "source": [
        "# plot the results\n",
        "import matplotlib.pyplot as plt\n",
        "\n",
        "plt.plot(np.arange(1,101), xmins_100);\n",
        "plt.plot(np.arange(1,101), xmins_1000);\n",
        "plt.plot(np.arange(1,101), xmins_10000);\n",
        "plt.xlabel(\"N\");\n",
        "plt.ylabel(\"min\");\n",
        "plt.legend([\"P=100\", \"P=1000\", \"P=10000\"]);"
      ],
      "metadata": {
        "colab": {
          "base_uri": "https://localhost:8080/",
          "height": 279
        },
        "id": "nanAoR7goqJ1",
        "outputId": "b6b10d1e-888e-4c11-f9d0-130058c6078a"
      },
      "execution_count": null,
      "outputs": [
        {
          "output_type": "display_data",
          "data": {
            "text/plain": [
              "<Figure size 432x288 with 1 Axes>"
            ],
            "image/png": "[encoded data removed]"
          },
          "metadata": {
            "needs_background": "light"
          }
        }
      ]
    },
    {
      "cell_type": "markdown",
      "source": [
        "##**Minimizing a simple quadratic using random search**\n",
        "\n",
        "In this problem, we run random local search for $K=5$ steps with $\\alpha = 1$ for all steps, at each step searching for $P = 1000$ random directions to minimize the quadratic function\n",
        "$g(w_1, w_2) = w^2_1 + w^2_2 + 2$.\n"
      ],
      "metadata": {
        "id": "ITIHXuSp1eQn"
      }
    },
    {
      "cell_type": "code",
      "source": [
        "# random search function\n",
        "def random_search(g,alpha_choice,max_its,w,num_samples):\n",
        "    # run random search\n",
        "    weight_history = []         # container for weight history\n",
        "    cost_history = []           # container for corresponding cost function history\n",
        "    alpha = 0\n",
        "    for k in range(1,max_its+1):\n",
        "        # check if diminishing steplength rule used\n",
        "        if alpha_choice == 'diminishing':\n",
        "            alpha = 1/float(k)\n",
        "        else:\n",
        "            alpha = alpha_choice\n",
        "\n",
        "        # record weights and cost evaluation\n",
        "        weight_history.append(w)\n",
        "        cost_history.append(g(w))\n",
        "\n",
        "        # construct set of random unit directions\n",
        "        directions = np.random.randn(num_samples,np.size(w))\n",
        "        norms = np.sqrt(np.sum(directions*directions,axis = 1))[:,np.newaxis]\n",
        "        directions = directions/norms\n",
        "\n",
        "        ### pick best descent direction\n",
        "        # compute all new candidate points\n",
        "        w_candidates = w + alpha*directions\n",
        "\n",
        "        # evaluate all candidates\n",
        "        evals = np.array([g(w_val) for w_val in w_candidates])\n",
        "\n",
        "        # if we find a real descent direction take the step in its direction\n",
        "        ind = np.argmin(evals)\n",
        "        if g(w_candidates[ind]) < g(w):\n",
        "            # pluck out best descent direction\n",
        "            d = directions[ind,:]\n",
        "\n",
        "            # take step\n",
        "            w = w + alpha*d\n",
        "\n",
        "    # record weights and cost evaluation\n",
        "    weight_history.append(w)\n",
        "    cost_history.append(g(w))\n",
        "    return weight_history,cost_history"
      ],
      "metadata": {
        "id": "GULVf59EtB8L"
      },
      "execution_count": null,
      "outputs": []
    },
    {
      "cell_type": "markdown",
      "source": [
        "In the following coding block, we first define the function g. And then we use $\\alpha = 1, w_0 = [3\\:4]^T, P = 1000$, and $K=5$ steps to call the random_search function."
      ],
      "metadata": {
        "id": "7VB_yiaD2AEn"
      }
    },
    {
      "cell_type": "code",
      "source": [
        "# define function\n",
        "#defining function g=wTw+2#\n",
        "import numpy as np\n",
        "g = lambda w: np.dot(w.T,w) + 2\n",
        "# run random search algorithm\n",
        "alpha_choice = 1 ; w =  np.array([3,4]); num_samples = 1000 ; max_its = 5 ;\n",
        "weight_history,cost_history = random_search(g,alpha_choice,max_its,w,num_samples)"
      ],
      "metadata": {
        "id": "-3ZsaUQONQx8"
      },
      "execution_count": null,
      "outputs": []
    },
    {
      "cell_type": "code",
      "source": [
        "%matplotlib inline\n",
        "import matplotlib.pyplot as plt\n",
        "\n",
        "plt.plot(cost_history, '-o');\n",
        "plt.xlabel(\"k\");\n",
        "plt.ylabel(\"g\");\n"
      ],
      "metadata": {
        "colab": {
          "base_uri": "https://localhost:8080/",
          "height": 279
        },
        "id": "8YomJ2u3NU_r",
        "outputId": "4b678238-b484-4898-8f9d-fef435f022dd"
      },
      "execution_count": null,
      "outputs": [
        {
          "output_type": "display_data",
          "data": {
            "text/plain": [
              "<Figure size 432x288 with 1 Axes>"
            ],
            "image/png": "[encoded data removed]"
          },
          "metadata": {
            "needs_background": "light"
          }
        }
      ]
    },
    {
      "cell_type": "markdown",
      "source": [
        "## **Random search with diminishing steplength**\n",
        "\n",
        "In this problem, we use random search and a diminishing steplength to minimize the Rosenbrock function $g(w_1, w_2) = 100(w_2-w_1^2)^2 + (w_1\\: -1)^2$. This function has a global minimum at the point $w^* = [1\\: 1]^T$ located in a very narrow and curved valley.\n",
        "\n",
        "Here, we make two runs of random search using $P = 1000$, the initial point $w^0 = [-2\\: -2]^T$, and $K = 50$ steps. With the first run we use a fixed steplength $\\alpha = 1$, and with the second run a diminishing steplength. Then we compare the two runs by plotting log of the cost function.\n"
      ],
      "metadata": {
        "id": "ams33T_A2U9U"
      }
    },
    {
      "cell_type": "code",
      "source": [
        "# define the runction g\n",
        "g = lambda w: 100*(w[1] - w[0]**2)**2 + (w[0] - 1) ** 2"
      ],
      "metadata": {
        "id": "37lPcqIQN2_M"
      },
      "execution_count": null,
      "outputs": []
    },
    {
      "cell_type": "code",
      "source": [
        "# run random search algorithm\n",
        "alpha_choice = 1; w = np.array([-2,-2]) ; num_samples = 1000; max_its = 50;\n",
        "weight_history,cost_history = random_search(g,alpha_choice,max_its,w,num_samples)"
      ],
      "metadata": {
        "id": "Iqne0HumeDx3"
      },
      "execution_count": null,
      "outputs": []
    },
    {
      "cell_type": "code",
      "source": [
        "# run random search algorithm\n",
        "alpha_choice = 'diminishing'; w = np.array([-2,-2]); num_samples = 1000; max_its = 50;\n",
        "weight_history1,cost_history1 = random_search(g,alpha_choice,max_its,w,num_samples)"
      ],
      "metadata": {
        "id": "nOhfCbBUeU14"
      },
      "execution_count": null,
      "outputs": []
    },
    {
      "cell_type": "code",
      "source": [
        "%matplotlib inline\n",
        "import matplotlib.pyplot as plt\n",
        "\n",
        "plt.plot(np.log(np.array(cost_history)));\n",
        "plt.plot(np.log(np.array(cost_history1)));\n",
        "plt.xlabel(\"step\");\n",
        "plt.ylabel(\"log cost\");\n",
        "plt.legend([\"alpha=1\", \"diminishing\"]);"
      ],
      "metadata": {
        "colab": {
          "base_uri": "https://localhost:8080/",
          "height": 279
        },
        "id": "4xy-anxkefzu",
        "outputId": "458e6aaa-795a-40aa-ca1e-4cc97b4e7fbb"
      },
      "execution_count": null,
      "outputs": [
        {
          "output_type": "display_data",
          "data": {
            "text/plain": [
              "<Figure size 432x288 with 1 Axes>"
            ],
            "image/png": "[encoded data removed]"
          },
          "metadata": {
            "needs_background": "light"
          }
        }
      ]
    },
    {
      "cell_type": "markdown",
      "source": [
        "##**Coordinate search applied to minimize a simple quadratic**\n",
        "\n",
        "Compare the results from random search algorithm and cooridnate search algorithm on the following simple quadratic\n",
        "$g(w_1, w_2) = w^2_1 + w^2_2 + 2.$"
      ],
      "metadata": {
        "id": "SRzj7WZ22ZXD"
      }
    },
    {
      "cell_type": "code",
      "source": [
        "# zero order coordinate search\n",
        "def coordinate_search(g,alpha_choice,max_its,w):\n",
        "    # construct set of all coordinate directions\n",
        "    directions_plus = np.eye(np.size(w),np.size(w))\n",
        "    directions_minus = - np.eye(np.size(w),np.size(w))\n",
        "    directions = np.concatenate((directions_plus,directions_minus),axis=0)\n",
        "\n",
        "    # run coordinate search\n",
        "    weight_history = []         # container for weight history\n",
        "    cost_history = []           # container for corresponding cost function history\n",
        "    alpha = 0\n",
        "    for k in range(1,max_its+1):\n",
        "        # check if diminishing steplength rule used\n",
        "        if alpha_choice == 'diminishing':\n",
        "            alpha = 1/float(k)\n",
        "        else:\n",
        "            alpha = alpha_choice\n",
        "\n",
        "        # record weights and cost evaluation\n",
        "        weight_history.append(w)\n",
        "        cost_history.append(g(w))\n",
        "\n",
        "        ### pick best descent direction\n",
        "        # compute all new candidate points\n",
        "        w_candidates = w + alpha*directions\n",
        "\n",
        "        # evaluate all candidates\n",
        "        evals = np.array([g(w_val) for w_val in w_candidates])\n",
        "\n",
        "        # if we find a real descent direction take the step in its direction\n",
        "        ind = np.argmin(evals)\n",
        "        if g(w_candidates[ind]) < g(w):\n",
        "            # pluck out best descent direction\n",
        "            d = directions[ind,:]\n",
        "\n",
        "            # take step\n",
        "            w = w + alpha*d\n",
        "\n",
        "    # record weights and cost evaluation\n",
        "    weight_history.append(w)\n",
        "    cost_history.append(g(w))\n",
        "    return weight_history,cost_history"
      ],
      "metadata": {
        "id": "XKYiKYY-gfjy"
      },
      "execution_count": null,
      "outputs": []
    },
    {
      "cell_type": "markdown",
      "source": [
        "For both algorithms, we use $w^0 = [3 \\: 4]^T, \\alpha = 1, P = 10000$ and $K = 10$."
      ],
      "metadata": {
        "id": "FRLqKjyIIf9A"
      }
    },
    {
      "cell_type": "code",
      "source": [
        "# define function\n",
        "import numpy as np\n",
        "g = lambda w: np.dot(w.T,w) + 2\n",
        "\n",
        "# run random search algorithm\n",
        "alpha_choice = 1 ; w = np.array([3,4]); num_samples = 10000; max_its = 10 ;\n",
        "weight_history_1,cost_history_1 = random_search(g,alpha_choice,max_its,w,num_samples)\n",
        "\n",
        "# run coordinate search algorithm\n",
        "alpha_choice = 1 ; w = np.array([3,4]); max_its = 10;\n",
        "weight_history_2,cost_history_2 = coordinate_search(g,alpha_choice,max_its,w)"
      ],
      "metadata": {
        "id": "BA2pyHZd08l_"
      },
      "execution_count": null,
      "outputs": []
    },
    {
      "cell_type": "code",
      "source": [
        "%matplotlib inline\n",
        "import matplotlib.pyplot as plt\n",
        "\n",
        "plt.plot(cost_history_1);\n",
        "plt.plot(cost_history_2);\n",
        "plt.xlabel(\"step\");\n",
        "plt.ylabel(\"cost\");\n",
        "plt.legend([\"random search\", \"coordinate search\"]);"
      ],
      "metadata": {
        "colab": {
          "base_uri": "https://localhost:8080/",
          "height": 279
        },
        "id": "cFf7DW_A13mB",
        "outputId": "965068e1-23a9-445d-9651-ff3a4dcc3525"
      },
      "execution_count": null,
      "outputs": [
        {
          "output_type": "display_data",
          "data": {
            "text/plain": [
              "<Figure size 432x288 with 1 Axes>"
            ],
            "image/png": "[encoded data removed]"
          },
          "metadata": {
            "needs_background": "light"
          }
        }
      ]
    },
    {
      "cell_type": "code",
      "source": [
        "%matplotlib inline\n",
        "import matplotlib.pyplot as plt\n",
        "\n",
        "plt.plot(np.array(cost_history_1)-np.array(cost_history_2));\n",
        "plt.xlabel(\"step\");\n",
        "plt.ylabel(\"cost difference\");"
      ],
      "metadata": {
        "colab": {
          "base_uri": "https://localhost:8080/",
          "height": 279
        },
        "id": "SrMTFcO3785Y",
        "outputId": "4eaa6125-6119-47cc-acfa-3a880afabef2"
      },
      "execution_count": null,
      "outputs": [
        {
          "output_type": "display_data",
          "data": {
            "text/plain": [
              "<Figure size 432x288 with 1 Axes>"
            ],
            "image/png": "[encoded data removed]"
          },
          "metadata": {
            "needs_background": "light"
          }
        }
      ]
    },
    {
      "cell_type": "markdown",
      "source": [
        "##**Coordinate search versus coordinate descent**\n",
        "\n",
        "Apply the coordinate search and coordinate descent algorithm on function $g(w_1, w_2) = 0.26(w^2_1 + w^2_2) - 0.48w_1w_2$. Use diminishing steplength for both algorithms. And use $w_0 = [3\\:4]^T $, and $K=40$ steps."
      ],
      "metadata": {
        "id": "5HMwLCRO2tZv"
      }
    },
    {
      "cell_type": "code",
      "source": [
        "# zero order coordinate search\n",
        "def coordinate_descent_zero_order(g,alpha_choice,max_its,w):\n",
        "    # run coordinate search\n",
        "    N = np.size(w)\n",
        "    weight_history = []         # container for weight history\n",
        "    cost_history = []           # container for corresponding cost function history\n",
        "    alpha = 0\n",
        "    for k in range(1,max_its+1):\n",
        "        # check if diminishing steplength rule used\n",
        "        if alpha_choice == 'diminishing':\n",
        "            alpha = 1/float(k)\n",
        "        else:\n",
        "            alpha = alpha_choice\n",
        "\n",
        "        # random shuffle of coordinates\n",
        "        c = np.random.permutation(N)\n",
        "\n",
        "        # forming the dirction matrix out of the loop\n",
        "        cost = g(w)\n",
        "\n",
        "        # loop over each coordinate direction\n",
        "        for n in range(N):\n",
        "            direction = np.zeros((N,1)).flatten()\n",
        "            direction[c[n]] = 1\n",
        "\n",
        "            # record weights and cost evaluation\n",
        "            weight_history.append(w)\n",
        "            cost_history.append(cost)\n",
        "\n",
        "            # evaluate all candidates\n",
        "            evals =  [g(w + alpha*direction)]\n",
        "            evals.append(g(w - alpha*direction))\n",
        "            evals = np.array(evals)\n",
        "\n",
        "            # if we find a real descent direction take the step in its direction\n",
        "            ind = np.argmin(evals)\n",
        "            if evals[ind] < cost_history[-1]:\n",
        "                # take step\n",
        "                w = w + ((-1)**(ind))*alpha*direction\n",
        "                cost = evals[ind]\n",
        "\n",
        "    # record weights and cost evaluation\n",
        "    weight_history.append(w)\n",
        "    cost_history.append(g(w))\n",
        "    return weight_history,cost_history"
      ],
      "metadata": {
        "id": "Lo7kL_BV2K1V"
      },
      "execution_count": null,
      "outputs": []
    },
    {
      "cell_type": "code",
      "source": [
        "# define function\n",
        "import numpy as np\n",
        "g = lambda w: 0.26*(w[0]**2 + w[1]**2) - 0.48*w[0]*w[1]\n",
        "\n",
        "# run coordinate search algorithm\n",
        "alpha_choice = 'diminishing'; w = np.array([3,4]); max_its = 100;\n",
        "weight_history_1,cost_history_1 = coordinate_search(g,alpha_choice,max_its,w)\n",
        "\n",
        "# run coordinate descent algorithm\n",
        "alpha_choice = 'diminishing'; w = np.array([3,4]) ; max_its = 40 ;\n",
        "weight_history_2,cost_history_2 = coordinate_descent_zero_order(g,alpha_choice,max_its,w)"
      ],
      "metadata": {
        "id": "LlEN8BSc20Qg"
      },
      "execution_count": null,
      "outputs": []
    },
    {
      "cell_type": "code",
      "source": [
        "%matplotlib inline\n",
        "import matplotlib.pyplot as plt\n",
        "\n",
        "plt.plot(np.log(np.array(cost_history_1)));\n",
        "plt.plot(np.log(np.array(cost_history_2)));\n",
        "plt.xlabel(\"step\");\n",
        "plt.ylabel(\"log cost\");\n",
        "plt.legend([\"coordinate search\", \"coordinate descent\"]);"
      ],
      "metadata": {
        "colab": {
          "base_uri": "https://localhost:8080/",
          "height": 279
        },
        "id": "No5zUA3l25dC",
        "outputId": "7b28919c-8876-46ea-85bc-194816d89a7b"
      },
      "execution_count": null,
      "outputs": [
        {
          "output_type": "display_data",
          "data": {
            "text/plain": [
              "<Figure size 432x288 with 1 Axes>"
            ],
            "image/png": "[encoded data removed]"
          },
          "metadata": {
            "needs_background": "light"
          }
        }
      ]
    }
  ]
}