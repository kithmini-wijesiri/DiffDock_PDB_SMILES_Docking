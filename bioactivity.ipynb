{
  "nbformat": 4,
  "nbformat_minor": 0,
  "metadata": {
    "colab": {
      "provenance": [],
      "authorship_tag": "ABX9TyMDF7/f69p3B2n7F56QOTHi",
      "include_colab_link": true
    },
    "kernelspec": {
      "name": "python3",
      "display_name": "Python 3"
    },
    "language_info": {
      "name": "python"
    }
  },
  "cells": [
    {
      "cell_type": "markdown",
      "metadata": {
        "id": "view-in-github",
        "colab_type": "text"
      },
      "source": [
        "<a href=\"https://colab.research.google.com/github/kithmini-wijesiri/SMILES/blob/main/bioactivity.ipynb\" target=\"_parent\"><img src=\"https://colab.research.google.com/assets/colab-badge.svg\" alt=\"Open In Colab\"/></a>"
      ]
    },
    {
      "cell_type": "markdown",
      "source": [
        "**Part 1**\n",
        "performing Data Collection and Pre-Processing from the ChEMBL Database"
      ],
      "metadata": {
        "id": "48SOPgDBcXgg"
      }
    },
    {
      "cell_type": "markdown",
      "source": [
        "1) Installing *libraries*"
      ],
      "metadata": {
        "id": "ET0URtY-cgi4"
      }
    },
    {
      "cell_type": "markdown",
      "source": [
        "This command will download and install the ChEMBL web resource client library along with its dependencies."
      ],
      "metadata": {
        "id": "yH8-oV2spfFG"
      }
    },
    {
      "cell_type": "code",
      "execution_count": null,
      "metadata": {
        "id": "OF20dcBscTOB"
      },
      "outputs": [],
      "source": [
        "! pip install chembl_webresource_client"
      ]
    },
    {
      "cell_type": "markdown",
      "source": [
        "2) importing libraries\n"
      ],
      "metadata": {
        "id": "Xz3h7xaKdRdA"
      }
    },
    {
      "cell_type": "markdown",
      "source": [
        "imports the pandas library and gives it the alias pd.\n",
        "imports the new_client module from the chembl_webresource_client library."
      ],
      "metadata": {
        "id": "3QJWmyhIp6vS"
      }
    },
    {
      "cell_type": "code",
      "source": [
        "import pandas as pd\n",
        "from chembl_webresource_client.new_client import new_client"
      ],
      "metadata": {
        "id": "n12bgq5zdT4l"
      },
      "execution_count": null,
      "outputs": []
    },
    {
      "cell_type": "markdown",
      "source": [
        "3) search for target protein\n"
      ],
      "metadata": {
        "id": "37O77TGgesmV"
      }
    },
    {
      "cell_type": "markdown",
      "source": [
        "creates a reference to the target resource within the ChEMBL web resource client.\n",
        "performs a search for targets related to coronavirus using the search method of the target resource\n",
        "converts the result of the target search, which is initially in dictionary format, into a Pandas DataFrame\n",
        "prints or returns the DataFrame containing information about the targets related to coronavirus"
      ],
      "metadata": {
        "id": "GfdB_sACqoBU"
      }
    },
    {
      "cell_type": "code",
      "source": [
        "# Target search for coronavirus\n",
        "target = new_client.target\n",
        "target_query = target.search('coronavirus')\n",
        "targets = pd.DataFrame.from_dict(target_query)\n",
        "targets"
      ],
      "metadata": {
        "id": "G2m8fWUkexjQ"
      },
      "execution_count": null,
      "outputs": []
    },
    {
      "cell_type": "markdown",
      "source": [
        "4) Select and retrieve bioactivity data for SARS coronavirus 3C-like proteinase"
      ],
      "metadata": {
        "id": "tUUFtz_CgJGO"
      }
    },
    {
      "cell_type": "markdown",
      "source": [
        "select the target with the chembl ID 6"
      ],
      "metadata": {
        "id": "pqAqR5ZXq-P_"
      }
    },
    {
      "cell_type": "code",
      "source": [
        "selected_target = targets.target_chembl_id[6]\n",
        "selected_target"
      ],
      "metadata": {
        "colab": {
          "base_uri": "https://localhost:8080/",
          "height": 37
        },
        "id": "VPlwU0RagM2l",
        "outputId": "97e9a20e-9a3e-4599-caa0-54516ac67937"
      },
      "execution_count": null,
      "outputs": [
        {
          "output_type": "execute_result",
          "data": {
            "text/plain": [
              "'CHEMBL3927'"
            ],
            "application/vnd.google.colaboratory.intrinsic+json": {
              "type": "string"
            }
          },
          "metadata": {},
          "execution_count": 6
        }
      ]
    },
    {
      "cell_type": "markdown",
      "source": [
        "5) retrieve bioactivity data for coronavirus 3C-like proteinase (CHEMBL3927) that are reported as IC 50  values in nM (nanomolar) unit. lower the IC 50, more potent it is and they are considered more effective in inhibiting the target activity."
      ],
      "metadata": {
        "id": "F3AvTaInoz8H"
      }
    },
    {
      "cell_type": "markdown",
      "source": [
        "This code snippet is using the ChEMBL web resource client to retrieve bioactivity data for the coronavirus 3C-like proteinase (CHEMBL3927) that are reported as IC50 values in nanomolar (nM) units. The result of these filtering operations is stored in the variable res. Then takes the bioactivity data, assumed to be in a dictionary format, and creates a Pandas DataFrame named df. The df.head(3) command is used to display the first 3 rows of the DataFrame df."
      ],
      "metadata": {
        "id": "A6DPLj_grJE3"
      }
    },
    {
      "cell_type": "code",
      "source": [
        "activity = new_client.activity\n",
        "res = activity.filter(target_chembl_id=selected_target).filter(standard_type=\"IC50\")"
      ],
      "metadata": {
        "id": "ijVA9lPmo3C6"
      },
      "execution_count": null,
      "outputs": []
    },
    {
      "cell_type": "code",
      "source": [
        "df = pd.DataFrame.from_dict(res)"
      ],
      "metadata": {
        "id": "E2hfWp0spPLk"
      },
      "execution_count": null,
      "outputs": []
    },
    {
      "cell_type": "code",
      "source": [
        "df.head(3)"
      ],
      "metadata": {
        "id": "YdDZ4iULpSrj"
      },
      "execution_count": null,
      "outputs": []
    },
    {
      "cell_type": "markdown",
      "source": [
        "To see what standard type of unique data we have,"
      ],
      "metadata": {
        "id": "zf1sIYOItiSo"
      }
    },
    {
      "cell_type": "code",
      "source": [
        "df.standard_type.unique()"
      ],
      "metadata": {
        "colab": {
          "base_uri": "https://localhost:8080/"
        },
        "id": "FHSa-alttZOk",
        "outputId": "7e7e440e-bd6c-4c61-e05f-5ee99f2ed4da"
      },
      "execution_count": null,
      "outputs": [
        {
          "output_type": "execute_result",
          "data": {
            "text/plain": [
              "array(['IC50'], dtype=object)"
            ]
          },
          "metadata": {},
          "execution_count": 12
        }
      ]
    },
    {
      "cell_type": "markdown",
      "source": [
        "6) save the resulting bioactivity data to a CSV file bioactivity_data.csv."
      ],
      "metadata": {
        "id": "4_YHGlEOsYCj"
      }
    },
    {
      "cell_type": "code",
      "source": [
        "df.to_csv('bioactivity_data_raw.csv', index=False)"
      ],
      "metadata": {
        "id": "rqXC2bqvsfIG"
      },
      "execution_count": null,
      "outputs": []
    },
    {
      "cell_type": "markdown",
      "source": [
        "7) copy files to google drive"
      ],
      "metadata": {
        "id": "kDc3DidFvGSL"
      }
    },
    {
      "cell_type": "markdown",
      "source": [
        "drive module provides functions to mount and interact with the Google Drive. This code imports the drive module from the google.colab package, and mounts your Google Drive into the Colab environment. force_remount=True option forces Google Colab to remount the drive, even if it has been mounted before"
      ],
      "metadata": {
        "id": "O1iQjYkSvyP3"
      }
    },
    {
      "cell_type": "code",
      "source": [
        "from google.colab import drive\n",
        "drive.mount('/content/gdrive/', force_remount=True)"
      ],
      "metadata": {
        "colab": {
          "base_uri": "https://localhost:8080/"
        },
        "id": "X-l_B7GDvJNC",
        "outputId": "b6fc3360-8bb5-46f7-e134-f271757225e6"
      },
      "execution_count": null,
      "outputs": [
        {
          "output_type": "stream",
          "name": "stdout",
          "text": [
            "Mounted at /content/gdrive/\n"
          ]
        }
      ]
    },
    {
      "cell_type": "markdown",
      "source": [
        "8) create a data folder in colab notebooks folder on google drive"
      ],
      "metadata": {
        "id": "nGM-cLsTwJoX"
      }
    },
    {
      "cell_type": "code",
      "source": [
        "! mkdir \"/content/gdrive/My Drive/Colab Notebooks/data\""
      ],
      "metadata": {
        "id": "7EdHTwKzwQVj"
      },
      "execution_count": null,
      "outputs": []
    },
    {
      "cell_type": "code",
      "source": [
        "! cp bioactivity_data_raw.csv \"/content/gdrive/My Drive/Colab Notebooks/data\""
      ],
      "metadata": {
        "id": "My3HM4gqwbTt"
      },
      "execution_count": null,
      "outputs": []
    },
    {
      "cell_type": "code",
      "source": [
        "!ls -l \"/content/gdrive/My Drive/Colab Notebooks/data\""
      ],
      "metadata": {
        "colab": {
          "base_uri": "https://localhost:8080/"
        },
        "id": "Wfsc0kyew2xu",
        "outputId": "7f43cab2-8851-4f32-8c64-10398dea9a71"
      },
      "execution_count": null,
      "outputs": [
        {
          "output_type": "stream",
          "name": "stdout",
          "text": [
            "total 67\n",
            "-rw------- 1 root root 68403 Feb  4 01:36 bioactivity_data_raw.csv\n"
          ]
        }
      ]
    },
    {
      "cell_type": "markdown",
      "source": [
        "9) check what .csv files we have so far"
      ],
      "metadata": {
        "id": "tDTnkIlHxPsO"
      }
    },
    {
      "cell_type": "code",
      "source": [
        "! ls"
      ],
      "metadata": {
        "colab": {
          "base_uri": "https://localhost:8080/"
        },
        "id": "SHUt4kkNw62R",
        "outputId": "73a5e808-97e8-4e33-cc8a-29e4094241d6"
      },
      "execution_count": null,
      "outputs": [
        {
          "output_type": "stream",
          "name": "stdout",
          "text": [
            "bioactivity_data_raw.csv  gdrive  sample_data\n"
          ]
        }
      ]
    },
    {
      "cell_type": "markdown",
      "source": [
        "10) check the .csv file we just created"
      ],
      "metadata": {
        "id": "k8m-6JCDxrUc"
      }
    },
    {
      "cell_type": "code",
      "source": [
        "! head bioactivity_data_raw.csv"
      ],
      "metadata": {
        "id": "QXGdKeOHxusU"
      },
      "execution_count": null,
      "outputs": []
    },
    {
      "cell_type": "markdown",
      "source": [
        "11) handling missing data"
      ],
      "metadata": {
        "id": "1AS5OMwXyBqU"
      }
    },
    {
      "cell_type": "code",
      "source": [
        "df2 = df[df.standard_value.notna()]\n",
        "df2"
      ],
      "metadata": {
        "id": "yLk91vzsyEIa"
      },
      "execution_count": null,
      "outputs": []
    },
    {
      "cell_type": "markdown",
      "source": [
        "**Part 2 data pre-processing**"
      ],
      "metadata": {
        "id": "Tq5k16s88Ug6"
      }
    },
    {
      "cell_type": "markdown",
      "source": [
        "1) labeling the compounds as active, inactive or intermediate\n"
      ],
      "metadata": {
        "id": "wOEV4KBr8Zuf"
      }
    },
    {
      "cell_type": "markdown",
      "source": [
        " IC50 <  1000 nM = active\n",
        " IC50 > 10,000 nM = inactive\n",
        " 1,000 < IC50 > 10,000 nM = intermediate"
      ],
      "metadata": {
        "id": "cELU0hap8diR"
      }
    },
    {
      "cell_type": "code",
      "source": [
        "bioactivity_class = []\n",
        "for i in df2.standard_value:\n",
        "  if float(i) >= 10000:\n",
        "    bioactivity_class.append(\"inactive\")\n",
        "  elif float(i) <= 1000:\n",
        "    bioactivity_class.append(\"active\")\n",
        "  else:\n",
        "    bioactivity_class.append(\"intermediate\")"
      ],
      "metadata": {
        "id": "ke1Vrb4G80wW"
      },
      "execution_count": null,
      "outputs": []
    },
    {
      "cell_type": "markdown",
      "source": [
        "2) iterate the *molecule_chembl_id* to a list"
      ],
      "metadata": {
        "id": "p8nWTLdq-r-R"
      }
    },
    {
      "cell_type": "markdown",
      "source": [
        "This code iterates through each value in the 'molecule_chembl_id' column of the DataFrame df2 and appends each value to the list mol_cid. After running this code, mol_cid will contain all the 'molecule_chembl_id' values present in the DataFrame."
      ],
      "metadata": {
        "id": "bV0Ty2eB_Ww0"
      }
    },
    {
      "cell_type": "code",
      "source": [
        "df2.molecule_chembl_id"
      ],
      "metadata": {
        "id": "XnSX6fYw-xpx"
      },
      "execution_count": null,
      "outputs": []
    },
    {
      "cell_type": "code",
      "source": [
        "mol_cid = []\n",
        "for i in df2.molecule_chembl_id:\n",
        "  mol_cid.append(i)"
      ],
      "metadata": {
        "id": "BjD-5n0k-8F7"
      },
      "execution_count": null,
      "outputs": []
    },
    {
      "cell_type": "code",
      "source": [
        "mol_cid"
      ],
      "metadata": {
        "id": "MskVYIsA_ltd"
      },
      "execution_count": null,
      "outputs": []
    },
    {
      "cell_type": "markdown",
      "source": [
        "Canonical smiles, or SMILES (Simplified Molecular Input Line Entry System), is a widely used and standardized notation for representing chemical structures in a text format. This code iterates through each value in the 'canonical_smiles' column of the DataFrame df2 and appends each value to the list canonical_smiles."
      ],
      "metadata": {
        "id": "vaYayJUPAfXv"
      }
    },
    {
      "cell_type": "code",
      "source": [
        "canonical_smiles = []\n",
        "for i in df2.canonical_smiles:\n",
        " canonical_smiles.append(i)"
      ],
      "metadata": {
        "id": "W9XXA0rr_uDm"
      },
      "execution_count": null,
      "outputs": []
    },
    {
      "cell_type": "code",
      "source": [
        "canonical_smiles"
      ],
      "metadata": {
        "id": "hEsLo7vkASZl"
      },
      "execution_count": null,
      "outputs": []
    },
    {
      "cell_type": "markdown",
      "source": [
        "IC50 values"
      ],
      "metadata": {
        "id": "Mu6TyhoPBIga"
      }
    },
    {
      "cell_type": "code",
      "source": [
        "standard_value = []\n",
        "for i in df2.standard_value:\n",
        " standard_value.append(i)\n"
      ],
      "metadata": {
        "id": "1InrBAwJAlgU"
      },
      "execution_count": null,
      "outputs": []
    },
    {
      "cell_type": "code",
      "source": [
        "standard_value"
      ],
      "metadata": {
        "id": "BhFZBN-RA--m"
      },
      "execution_count": null,
      "outputs": []
    },
    {
      "cell_type": "markdown",
      "source": [
        "**Alternative simple method**"
      ],
      "metadata": {
        "id": "EAYMCkA5BpSV"
      }
    },
    {
      "cell_type": "code",
      "source": [
        "selection = ['molecule_chembl_id', 'canonical_smiles', 'standard_value']\n",
        "df3 = df2[selection]"
      ],
      "metadata": {
        "id": "k408THHdBTSP"
      },
      "execution_count": null,
      "outputs": []
    },
    {
      "cell_type": "code",
      "source": [
        "df3"
      ],
      "metadata": {
        "id": "qytBmtJ8Bldy"
      },
      "execution_count": null,
      "outputs": []
    },
    {
      "cell_type": "markdown",
      "source": [
        "the above data will be combined with the bioactivity class in the followin code."
      ],
      "metadata": {
        "id": "L7v9Xpz8DSoe"
      }
    },
    {
      "cell_type": "code",
      "source": [
        "pd.concat([df3,pd.Series(bioactivity_class)], axis=1)"
      ],
      "metadata": {
        "id": "XAmSpRQzBwls"
      },
      "execution_count": null,
      "outputs": []
    },
    {
      "cell_type": "markdown",
      "source": [
        "create a .csv file for the pre-processed data"
      ],
      "metadata": {
        "id": "JN13Wm9-FIcJ"
      }
    },
    {
      "cell_type": "code",
      "source": [
        "df3.to_csv('bioacivity_preprocessed_data.csv', index=False)"
      ],
      "metadata": {
        "id": "sQ_jbVhxFe2p"
      },
      "execution_count": null,
      "outputs": []
    },
    {
      "cell_type": "code",
      "source": [
        "! ls -l"
      ],
      "metadata": {
        "id": "8cMANXtPFl3O"
      },
      "execution_count": null,
      "outputs": []
    },
    {
      "cell_type": "markdown",
      "source": [
        "copy to google drive"
      ],
      "metadata": {
        "id": "KjRENlaGF-zm"
      }
    },
    {
      "cell_type": "code",
      "source": [
        "! cp bioacivity_preprocessed_data.csv \"/content/gdrive/My Drive/Colab Notebooks/data\""
      ],
      "metadata": {
        "id": "0t2zfPnbFwrc"
      },
      "execution_count": null,
      "outputs": []
    },
    {
      "cell_type": "code",
      "source": [
        "! ls \"/content/gdrive/My Drive/Colab Notebooks/data\""
      ],
      "metadata": {
        "colab": {
          "base_uri": "https://localhost:8080/"
        },
        "id": "HL9-FgoJF4NT",
        "outputId": "06fb4282-3a67-41af-a20d-09dc2dd96744"
      },
      "execution_count": null,
      "outputs": [
        {
          "output_type": "stream",
          "name": "stdout",
          "text": [
            "bioacivity_preprocessed_data.csv  bioactivity_data_raw.csv\n"
          ]
        }
      ]
    }
  ]
}